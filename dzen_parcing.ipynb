{
 "cells": [
  {
   "cell_type": "code",
   "execution_count": null,
   "id": "f847cbee",
   "metadata": {},
   "outputs": [],
   "source": [
    "from selenium import webdriver\n",
    "from selenium.webdriver.common.by import By\n",
    "import bs4 as beautifulsoup\n",
    "from bs4 import BeautifulSoup as soup \n",
    "\n",
    "import pandas as pd\n",
    "import time\n",
    "import telebot\n",
    "\n",
    "\n",
    "url = 'https://dzen.ru'\n",
    "path = 'C:\\chromedriver-win64'\n",
    "browser = webdriver.Chrome()\n",
    "browser.get(url)\n",
    "\n",
    "with open(\"D:/dzen.html\", \"w\", encoding='utf-8') as file:\n",
    "    file.write(browser.page_source)\n",
    "\n",
    "time.sleep(5)\n",
    "    \n",
    "browser.quit()"
   ]
  },
  {
   "cell_type": "code",
   "execution_count": null,
   "id": "712bd7ef",
   "metadata": {},
   "outputs": [],
   "source": [
    "source = open(\"D:/dzen.html\", \"r\", encoding='utf-8')\n",
    "\n",
    "page = source.read()\n",
    "\n",
    "rlinks = []\n",
    "\n",
    "parce=soup(page, 'lxml')\n",
    "\n",
    "alllinks = parce.findAll('span', class_='dzen-desktop--card-news-story__text-3F')\n",
    "\n",
    "for data in alllinks:\n",
    "    if data.find('span', class_='dzen-desktop--card-news-story__text-3F') is not None:\n",
    "        rlinks.append(data.text)\n",
    "\n",
    "for data in alllinks:\n",
    "    print(data.text)"
   ]
  },
  {
   "cell_type": "code",
   "execution_count": null,
   "id": "a0ec2819",
   "metadata": {},
   "outputs": [],
   "source": [
    "links_dict = {'Новости dzen': alllinks}\n",
    "\n",
    "dzenlinks = pd.DataFrame.from_dict(links_dict, orient ='index')\n",
    "dzenlinks = dzenlinks.transpose()\n",
    "dzenlinks.head()"
   ]
  },
  {
   "cell_type": "code",
   "execution_count": null,
   "id": "b5287603",
   "metadata": {},
   "outputs": [],
   "source": [
    "dzenlinks.to_csv('dzen_news.csv', sep =',', index = False)"
   ]
  }
 ],
 "metadata": {
  "kernelspec": {
   "display_name": "Python 3 (ipykernel)",
   "language": "python",
   "name": "python3"
  },
  "language_info": {
   "codemirror_mode": {
    "name": "ipython",
    "version": 3
   },
   "file_extension": ".py",
   "mimetype": "text/x-python",
   "name": "python",
   "nbconvert_exporter": "python",
   "pygments_lexer": "ipython3",
   "version": "3.8.13"
  }
 },
 "nbformat": 4,
 "nbformat_minor": 5
}
